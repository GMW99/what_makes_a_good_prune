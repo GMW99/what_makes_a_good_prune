{
 "cells": [
  {
   "cell_type": "markdown",
   "metadata": {
    "id": "lASGiYs3eK7o"
   },
   "source": [
    "# What Makes a Good Prune\n",
    "\n",
    "This notebook demonstrates the method for calculating the optimal amount to prune a neural network as shown in the paper [\"What Makes a Good Prune? Maximal Unstructured Pruning for Maximal Cosine Similarity\" by G. Mason-Williams and F. Dahlqvist 2024.](https://openreview.net/forum?id=jsvvPVVzwf)\n",
    "\n",
    "Contents:\n",
    "\n",
    "1. Training a LeNet5 on MNIST\n",
    "\n",
    "2. Calculating the optimal prune\n",
    "\n",
    "3. The case of a high kurtosis of kurtoses\n",
    "\n",
    "\n",
    "1.) Can be skipped by running all cells if known\n",
    "\n",
    "2.) Demonstrates how to calculate the optimal prune and then how to prune and finetune.\n",
    "\n",
    "3.) Demonstrates what to do if the method does not work and how to see if this will happen. This demonstration is contrived as this phenomenon does not occur on MNIST with a LeNet5 architecture.\n",
    "\n",
    "If you use this please cite using:\n",
    "\n",
    "```\n",
    "@inproceedings{\n",
    "  mason-williams2024what,\n",
    "  title={What Makes a Good Prune? Maximal Unstructured Pruning for Maximal Cosine Similarity},\n",
    "  author={Gabryel Mason-Williams and Fredrik Dahlqvist},\n",
    "  booktitle={The Twelfth International Conference on Learning Representations},\n",
    "  year={2024},\n",
    "  url={https://openreview.net/forum?id=jsvvPVVzwf }\n",
    "}\n",
    "```"
   ]
  },
  {
   "cell_type": "markdown",
   "metadata": {
    "id": "2WY9D7VqfCIq"
   },
   "source": [
    "## Training LeNet5 on MNIST\n",
    "\n",
    "### 1.1 Importing required packages"
   ]
  },
  {
   "cell_type": "code",
   "execution_count": 1,
   "metadata": {
    "id": "enqmlid8eFjy",
    "ExecuteTime": {
     "end_time": "2024-03-06T15:22:19.750723Z",
     "start_time": "2024-03-06T15:22:18.417974Z"
    }
   },
   "outputs": [],
   "source": [
    "import torch\n",
    "import torchvision\n",
    "import torch.nn as nn\n",
    "import torch.nn.functional as F\n",
    "import torchvision.transforms as transforms\n",
    "import torch.optim as optim"
   ]
  },
  {
   "cell_type": "markdown",
   "metadata": {
    "id": "43zvdrLEhnbU"
   },
   "source": [
    "### 1.2 Dynamically set the device"
   ]
  },
  {
   "cell_type": "code",
   "execution_count": 2,
   "metadata": {
    "id": "78iWOU71hpCR",
    "ExecuteTime": {
     "end_time": "2024-03-06T15:22:21.303646Z",
     "start_time": "2024-03-06T15:22:19.752181Z"
    }
   },
   "outputs": [],
   "source": [
    "device = torch.device(\"cuda\" if torch.cuda.is_available() else \"cpu\")"
   ]
  },
  {
   "cell_type": "markdown",
   "metadata": {
    "id": "uh4PggPegSkE"
   },
   "source": [
    "### 1.3 Get the training and testing dataset"
   ]
  },
  {
   "cell_type": "code",
   "execution_count": 3,
   "metadata": {
    "id": "Z733V4kOff5g",
    "colab": {
     "base_uri": "https://localhost:8080/"
    },
    "outputId": "ba52f5ef-217c-4a38-f356-9158f2c9c4b0",
    "ExecuteTime": {
     "end_time": "2024-03-06T15:22:21.371741Z",
     "start_time": "2024-03-06T15:22:21.304928Z"
    }
   },
   "outputs": [],
   "source": [
    "transform = transforms.Compose(\n",
    "    [transforms.ToTensor()])\n",
    "\n",
    "batch_size = 256\n",
    "\n",
    "trainset = torchvision.datasets.MNIST(root='./data', train=True,\n",
    "                                        download=True, transform=transform)\n",
    "trainloader = torch.utils.data.DataLoader(trainset, batch_size=batch_size,\n",
    "                                          shuffle=True, num_workers=2)\n",
    "\n",
    "testset = torchvision.datasets.MNIST(root='./data', train=False,\n",
    "                                       download=True, transform=transform)\n",
    "testloader = torch.utils.data.DataLoader(testset, batch_size=batch_size,\n",
    "                                         shuffle=False, num_workers=2)"
   ]
  },
  {
   "cell_type": "markdown",
   "source": [
    "### 1.4 Create the training and testing functions"
   ],
   "metadata": {
    "id": "mlh9PYpaZ0BF"
   }
  },
  {
   "cell_type": "code",
   "source": [
    "def train(dataloader, epochs, net):\n",
    "  for epoch in range(epochs):  # loop over the dataset multiple times\n",
    "      running_loss = 0.0\n",
    "      for data in dataloader:\n",
    "          # get the inputs; data is a list of [inputs, labels]\n",
    "          inputs, labels = data[0].to(device), data[1].to(device)\n",
    "\n",
    "          # zero the parameter gradients\n",
    "          optimizer.zero_grad()\n",
    "\n",
    "          # forward + backward + optimize\n",
    "          outputs = net(inputs)\n",
    "          loss = criterion(outputs, labels)\n",
    "          loss.backward()\n",
    "          optimizer.step()\n",
    "\n",
    "          # print statistics\n",
    "          running_loss += loss.item()\n",
    "      print(f'[{epoch + 1}] loss: {running_loss / len(trainloader):.3f}')\n",
    "      running_loss = 0.0\n",
    "\n",
    "  print('Finished Training')"
   ],
   "metadata": {
    "id": "Hp-NTF7tZhYK",
    "ExecuteTime": {
     "end_time": "2024-03-06T15:22:21.377003Z",
     "start_time": "2024-03-06T15:22:21.372800Z"
    }
   },
   "execution_count": 4,
   "outputs": []
  },
  {
   "cell_type": "code",
   "source": [
    "def evaluate(test_data, model):\n",
    "    running_loss = 0\n",
    "    total = 0\n",
    "    correct = 0\n",
    "    model.eval()\n",
    "    torch.compile(model, mode=\"max-autotune\")\n",
    "    with torch.no_grad():\n",
    "        for iters, data in enumerate(test_data):\n",
    "            images, labels = data[0].to(device), data[1].to(device)\n",
    "            # calculate outputs by running images through the network\n",
    "            outputs = model(images)\n",
    "            loss = torch.nn.CrossEntropyLoss()(outputs, labels)\n",
    "            running_loss += loss.item()\n",
    "            # the class with the highest energy is what we choose as prediction\n",
    "            predicted = torch.argmax(outputs.data, 1)\n",
    "            total += labels.size(0)\n",
    "            correct += (predicted == labels).sum().item()\n",
    "    return (\n",
    "        100 * correct / total,\n",
    "        running_loss / iters,\n",
    "    )"
   ],
   "metadata": {
    "id": "LE7_rEEvZfiu",
    "ExecuteTime": {
     "end_time": "2024-03-06T15:22:21.384523Z",
     "start_time": "2024-03-06T15:22:21.378187Z"
    }
   },
   "execution_count": 5,
   "outputs": []
  },
  {
   "cell_type": "markdown",
   "metadata": {
    "id": "57arnMkdfKcl"
   },
   "source": [
    "### 1.5 Creating LeNet5 Model"
   ]
  },
  {
   "cell_type": "code",
   "execution_count": 6,
   "metadata": {
    "id": "OGd9X05jfI1I",
    "ExecuteTime": {
     "end_time": "2024-03-06T15:22:21.392704Z",
     "start_time": "2024-03-06T15:22:21.386753Z"
    }
   },
   "outputs": [],
   "source": [
    "class LeNet5(nn.Module):\n",
    "    \"\"\"Lenet5 Model.\"\"\"\n",
    "\n",
    "    def __init__(self):\n",
    "        \"\"\"init.\"\"\"\n",
    "        super(LeNet5, self).__init__()\n",
    "        self.conv1 = nn.Conv2d(1, 6, 5, padding=2)\n",
    "        self.pool1 = nn.MaxPool2d(kernel_size=2)\n",
    "        self.conv2 = nn.Conv2d(6, 16, 5)\n",
    "        self.pool2 = nn.MaxPool2d(kernel_size=2)\n",
    "        self.flat = nn.Flatten()\n",
    "        self.fc1 = nn.Linear(16 * 5 * 5, 120)\n",
    "        self.fc2 = nn.Linear(120, 84)\n",
    "        self.fc3 = nn.Linear(84, 10)\n",
    "\n",
    "    def forward(self, x):\n",
    "        \"\"\"Forward Pass.\n",
    "\n",
    "        Args:\n",
    "            x: input\n",
    "\n",
    "        Returns:\n",
    "            logits\n",
    "        \"\"\"\n",
    "        x = F.relu(self.conv1(x))\n",
    "        x = self.pool1(x)\n",
    "        x = F.relu(self.conv2(x))\n",
    "        x = self.pool2(x)\n",
    "        x = self.flat(x)\n",
    "        x = F.relu(self.fc1(x))\n",
    "        x = F.relu(self.fc2(x))\n",
    "        x = self.fc3(x)\n",
    "        return x"
   ]
  },
  {
   "cell_type": "markdown",
   "metadata": {
    "id": "z24rqBDcgbbW"
   },
   "source": [
    "### 1.6 Training the network"
   ]
  },
  {
   "cell_type": "code",
   "execution_count": 7,
   "metadata": {
    "id": "fG3cvu3CgK3m",
    "colab": {
     "base_uri": "https://localhost:8080/"
    },
    "outputId": "ebb56d95-3bbb-4262-ef32-256a12e01601",
    "ExecuteTime": {
     "end_time": "2024-03-06T15:23:57.214567Z",
     "start_time": "2024-03-06T15:22:21.393751Z"
    }
   },
   "outputs": [
    {
     "name": "stdout",
     "output_type": "stream",
     "text": [
      "[1] loss: 2.299\n",
      "[2] loss: 2.287\n",
      "[3] loss: 2.242\n",
      "[4] loss: 1.708\n",
      "[5] loss: 0.644\n",
      "[6] loss: 0.431\n",
      "[7] loss: 0.349\n",
      "[8] loss: 0.297\n",
      "[9] loss: 0.261\n",
      "[10] loss: 0.231\n",
      "[11] loss: 0.208\n",
      "[12] loss: 0.189\n",
      "[13] loss: 0.175\n",
      "[14] loss: 0.163\n",
      "[15] loss: 0.151\n",
      "[16] loss: 0.141\n",
      "[17] loss: 0.133\n",
      "[18] loss: 0.125\n",
      "[19] loss: 0.118\n",
      "[20] loss: 0.112\n",
      "[21] loss: 0.107\n",
      "[22] loss: 0.103\n",
      "[23] loss: 0.098\n",
      "[24] loss: 0.095\n",
      "[25] loss: 0.093\n",
      "Finished Training\n"
     ]
    }
   ],
   "source": [
    "net = LeNet5()\n",
    "net.to(device)\n",
    "criterion = nn.CrossEntropyLoss()\n",
    "optimizer = optim.SGD(net.parameters(), lr=0.001, momentum=0.9)\n",
    "train(trainloader, 25, net)"
   ]
  },
  {
   "cell_type": "markdown",
   "source": [
    "### 1.7 Evaluate the model"
   ],
   "metadata": {
    "id": "oqqZq7gnaIYt"
   }
  },
  {
   "cell_type": "code",
   "source": [
    "acc, loss = evaluate(testloader,net)\n",
    "print(f\"Accuracy: {acc}, Loss: {loss}\")"
   ],
   "metadata": {
    "colab": {
     "base_uri": "https://localhost:8080/"
    },
    "id": "Xyi5mSFMIIjk",
    "outputId": "1942545a-caf4-45c8-a6ff-ed8c7d01b77e",
    "ExecuteTime": {
     "end_time": "2024-03-06T15:23:58.078167Z",
     "start_time": "2024-03-06T15:23:57.216198Z"
    }
   },
   "execution_count": 8,
   "outputs": [
    {
     "name": "stdout",
     "output_type": "stream",
     "text": [
      "Accuracy: 97.56, Loss: 0.08399565286265734\n"
     ]
    }
   ]
  },
  {
   "cell_type": "markdown",
   "source": [
    "### 1.8 Save model"
   ],
   "metadata": {
    "id": "Y9g5nRfKsb6C"
   }
  },
  {
   "cell_type": "code",
   "execution_count": 9,
   "metadata": {
    "id": "-qvPlUszgtKU",
    "ExecuteTime": {
     "end_time": "2024-03-06T15:23:58.084821Z",
     "start_time": "2024-03-06T15:23:58.079641Z"
    }
   },
   "outputs": [],
   "source": [
    "torch.save(net.state_dict(), \"base.pth\")"
   ]
  },
  {
   "cell_type": "markdown",
   "source": [
    "## 2 Calculating the optimal prune\n",
    "\n",
    "This section demonstrates the method to calculate the optimal prune\n",
    "\n",
    "### 2.1 Helper Functions"
   ],
   "metadata": {
    "id": "zaZwVHWfrTCx"
   }
  },
  {
   "cell_type": "code",
   "source": [
    "from torch.nn.utils import parameters_to_vector as Params2Vec\n",
    "import torch.nn.utils.prune as prune\n",
    "import matplotlib.pyplot as plt\n",
    "\n",
    "\n",
    "def vectorise_model(model):\n",
    "    \"\"\"Convert Paramaters to Vector form.\"\"\"\n",
    "    return Params2Vec(model.parameters())\n",
    "\n",
    "def cosine_similarity(base_weights, model_weights):\n",
    "    \"\"\"Calculate the cosine similairty between two vectors \"\"\"\n",
    "    return torch.nan_to_num(torch.clip(torch.dot(\n",
    "        base_weights, model_weights\n",
    "    ) / (\n",
    "        torch.linalg.norm(base_weights)\n",
    "        * torch.linalg.norm(model_weights)\n",
    "    ),-1, 1),0)\n",
    "\n",
    "\n",
    "def global_prune_without_masks(model, amount):\n",
    "    \"\"\"Global Unstructured Pruning of model.\"\"\"\n",
    "    parameters_to_prune = []\n",
    "    for mod in model.modules():\n",
    "        if hasattr(mod, \"weight\"):\n",
    "            if isinstance(mod.weight, torch.nn.Parameter):\n",
    "                parameters_to_prune.append((mod, \"weight\"))\n",
    "        if hasattr(mod, \"bias\"):\n",
    "            if isinstance(mod.bias, torch.nn.Parameter):\n",
    "                parameters_to_prune.append((mod, \"bias\"))\n",
    "    parameters_to_prune = tuple(parameters_to_prune)\n",
    "    prune.global_unstructured(\n",
    "        parameters_to_prune,\n",
    "        pruning_method=prune.L1Unstructured,\n",
    "        amount=amount,\n",
    "    )\n",
    "    for mod in model.modules():\n",
    "        if hasattr(mod, \"weight_orig\"):\n",
    "            if isinstance(mod.weight_orig, torch.nn.Parameter):\n",
    "                prune.remove(mod, \"weight\")\n",
    "        if hasattr(mod, \"bias_orig\"):\n",
    "            if isinstance(mod.bias_orig, torch.nn.Parameter):\n",
    "                prune.remove(mod, \"bias\")\n",
    "\n",
    "def global_prune_with_masks(model, amount):\n",
    "    \"\"\"Global Unstructured Pruning of model.\"\"\"\n",
    "    parameters_to_prune = []\n",
    "    for mod in model.modules():\n",
    "        if hasattr(mod, \"weight\"):\n",
    "            if isinstance(mod.weight, torch.nn.Parameter):\n",
    "                parameters_to_prune.append((mod, \"weight\"))\n",
    "        if hasattr(mod, \"bias\"):\n",
    "            if isinstance(mod.bias, torch.nn.Parameter):\n",
    "                parameters_to_prune.append((mod, \"bias\"))\n",
    "    parameters_to_prune = tuple(parameters_to_prune)\n",
    "    prune.global_unstructured(\n",
    "        parameters_to_prune,\n",
    "        pruning_method=prune.L1Unstructured,\n",
    "        amount=amount,\n",
    "    )"
   ],
   "metadata": {
    "id": "pOCZmccnrUHv",
    "ExecuteTime": {
     "end_time": "2024-03-06T15:23:58.447257Z",
     "start_time": "2024-03-06T15:23:58.086111Z"
    }
   },
   "execution_count": 10,
   "outputs": []
  },
  {
   "cell_type": "markdown",
   "source": [
    "### 2.2 Prune the network between 0 and 100% caculating the Cosine Simaliarty at each prune\n",
    "\n",
    "The cosine simaliarty is calculated as it is an effective proxy measure for the functional simialairy between the base (unpruned) and pruned network."
   ],
   "metadata": {
    "id": "u9kOjsWVamIj"
   }
  },
  {
   "cell_type": "code",
   "source": [
    "prune_rate = torch.linspace(0,1,101)\n",
    "cosine_sim = []\n",
    "base = LeNet5()\n",
    "base.load_state_dict(torch.load(\"base.pth\"))\n",
    "base_vec = vectorise_model(base)\n",
    "prune_net = LeNet5()\n",
    "\n",
    "for p in prune_rate:\n",
    "  p = float(p)\n",
    "  prune_net.load_state_dict(torch.load(\"base.pth\"))\n",
    "  global_prune_without_masks(prune_net, p)\n",
    "  prune_net_vec = vectorise_model(prune_net)\n",
    "  cosine_sim.append(cosine_similarity(base_vec, prune_net_vec).item())\n",
    "\n"
   ],
   "metadata": {
    "id": "UnO2gj7Prpgz",
    "ExecuteTime": {
     "end_time": "2024-03-06T15:23:59.296866Z",
     "start_time": "2024-03-06T15:23:58.450492Z"
    }
   },
   "execution_count": 11,
   "outputs": []
  },
  {
   "cell_type": "markdown",
   "source": [
    "### 2.2 Calculate the point that is closet to the utopia, i.e 100% prune with a cosine simalairty of 1.\n",
    "\n",
    "It is important to note that the utopia is not possible to achieve, but the closest point indicates the maximal amount of pruning that can be achived while mainting the maximal cosine simialairty. Remebering that cosine simialiary is important as it is a proxy for functional simialairty (see paper for more details)"
   ],
   "metadata": {
    "id": "fbypYcyqa3AQ"
   }
  },
  {
   "cell_type": "code",
   "source": [
    "c = torch.vstack((torch.Tensor(cosine_sim), prune_rate))\n",
    "d = c.T\n",
    "dists = []\n",
    "for i in d:\n",
    "    dists.append(torch.dist(i, torch.Tensor([1, 1])))\n",
    "min = torch.argmin(torch.Tensor(dists))"
   ],
   "metadata": {
    "id": "mrq_5kthbSrA",
    "ExecuteTime": {
     "end_time": "2024-03-06T15:23:59.305735Z",
     "start_time": "2024-03-06T15:23:59.298621Z"
    }
   },
   "execution_count": 12,
   "outputs": []
  },
  {
   "cell_type": "markdown",
   "source": [
    "### 2.3 Plot Pareto Front\n",
    "\n",
    "Plotting the Pareto Front shows how the cosine similarity and percentage pruning relate.\n",
    "\n",
    "The plot indicates the amount you can prune before affecting the performance, with the optima being the closest point to the utopia such that beyond this point, the model's performance will severely degrade.\n",
    "\n",
    "If no finetuning is desired, then it is recommended to select a pruning amount that results in a high cosine similarity, say, 0.99."
   ],
   "metadata": {
    "id": "j3vU6fw3bUlZ"
   }
  },
  {
   "cell_type": "code",
   "source": [
    "plt.plot(prune_rate, cosine_sim, label=\"LeNet Parateo Front\")\n",
    "plt.xlim(0,1.05)\n",
    "plt.ylim(0,1.05)\n",
    "plt.scatter(1,1,label=\"Utopia\", c=\"red\", marker=\"*\", s=150)\n",
    "plt.scatter(prune_rate[min], cosine_sim[min], color=\"k\", marker=\"o\", label=\"Optima\")\n",
    "plt.legend()\n",
    "plt.grid()"
   ],
   "metadata": {
    "colab": {
     "base_uri": "https://localhost:8080/",
     "height": 430
    },
    "id": "Gt3rz6vct4CT",
    "outputId": "6074b1e2-59f1-477b-f67c-5a28bb4340ca",
    "ExecuteTime": {
     "end_time": "2024-03-06T15:23:59.637117Z",
     "start_time": "2024-03-06T15:23:59.307419Z"
    }
   },
   "execution_count": 13,
   "outputs": [
    {
     "data": {
      "text/plain": "<Figure size 640x480 with 1 Axes>",
      "image/png": "[encoded data removed]"
     },
     "metadata": {},
     "output_type": "display_data"
    }
   ]
  },
  {
   "cell_type": "markdown",
   "source": [
    "### 2.4 Prune to amount speficied and finetune for 1 epoch"
   ],
   "metadata": {
    "id": "2HvpE92Ubrm-"
   }
  },
  {
   "cell_type": "code",
   "source": [
    "prune_net = LeNet5()\n",
    "prune_net.load_state_dict(torch.load(\"base.pth\"))\n",
    "global_prune_with_masks(prune_net, float(prune_rate[min]))\n",
    "prune_net.to(device)\n",
    "prune_acc, prune_loss = evaluate(testloader,prune_net)\n",
    "criterion = nn.CrossEntropyLoss()\n",
    "optimizer = optim.SGD(prune_net.parameters(), lr=0.001, momentum=0.9)\n",
    "train(trainloader,1,prune_net)\n",
    "finetune_acc, finetune_acc_loss =  evaluate(testloader,prune_net)"
   ],
   "metadata": {
    "colab": {
     "base_uri": "https://localhost:8080/"
    },
    "id": "AoR70yncuHgQ",
    "outputId": "b5775884-ef7c-40a2-ae88-2f4371edf051",
    "ExecuteTime": {
     "end_time": "2024-03-06T15:24:06.044205Z",
     "start_time": "2024-03-06T15:23:59.638631Z"
    }
   },
   "execution_count": 14,
   "outputs": [
    {
     "name": "stdout",
     "output_type": "stream",
     "text": [
      "[1] loss: 0.151\n",
      "Finished Training\n"
     ]
    }
   ]
  },
  {
   "cell_type": "code",
   "source": [
    "print(f\"Base Accuracy:  {acc}, Base Loss: {loss:.3f}\")\n",
    "print(f\"Prune Accuracy: {prune_acc}, Prune Loss: {prune_loss:.3f}\")\n",
    "print(f\"Finetune Accuracy: {finetune_acc}, Finetune Loss: {finetune_acc_loss:.3f}\")\n",
    "print(f\"Percentage Pruned {prune_rate[min]*100}\")"
   ],
   "metadata": {
    "colab": {
     "base_uri": "https://localhost:8080/"
    },
    "id": "EnNi4GZ1JOUJ",
    "outputId": "584c2aa4-9a83-4b36-d06a-937e2d349a12",
    "ExecuteTime": {
     "end_time": "2024-03-06T15:24:06.050165Z",
     "start_time": "2024-03-06T15:24:06.045709Z"
    }
   },
   "execution_count": 15,
   "outputs": [
    {
     "name": "stdout",
     "output_type": "stream",
     "text": [
      "Base Accuracy:  97.56, Base Loss: 0.084\n",
      "Prune Accuracy: 84.98, Prune Loss: 0.448\n",
      "Finetune Accuracy: 97.15, Finetune Loss: 0.111\n",
      "Percentage Pruned 83.0\n"
     ]
    }
   ]
  },
  {
   "cell_type": "markdown",
   "source": [
    "## 3. The case of a high kurtosis of kurtoses\n"
   ],
   "metadata": {
    "id": "aIwoKg8hgpkC"
   }
  },
  {
   "cell_type": "markdown",
   "source": [
    "### 3.1 Calculate kurtosis of kurtoses $(K^{(2)}$)\n",
    "\n",
    "This calcualtes the kurtosis for each layer and then calculates the kurtosis of that to get the kurtosis of kurtoses"
   ],
   "metadata": {
    "id": "Trl2uqZ6noXg"
   }
  },
  {
   "cell_type": "code",
   "source": [
    "import scipy.stats as stats\n",
    "\n",
    "def kurtosis_of_kurtoses(model):\n",
    "  kurtosis = []\n",
    "  for mod in model.modules():\n",
    "      if hasattr(mod, \"weight\"):\n",
    "          if isinstance(mod.weight, torch.nn.Parameter):\n",
    "              kurtosis.append(stats.kurtosis(mod.weight.detach().numpy().flatten(), fisher=False))\n",
    "      if hasattr(mod, \"bias\"):\n",
    "          if isinstance(mod.bias, torch.nn.Parameter):\n",
    "              kurtosis.append(stats.kurtosis(mod.bias.detach().numpy().flatten(),  fisher=False))\n",
    "  kurtosis_kurtosis = stats.kurtosis(kurtosis, fisher=False)\n",
    "  return kurtosis_kurtosis\n"
   ],
   "metadata": {
    "id": "U5n6yLa_Uc6q",
    "ExecuteTime": {
     "end_time": "2024-03-06T15:24:06.404127Z",
     "start_time": "2024-03-06T15:24:06.051490Z"
    }
   },
   "execution_count": 16,
   "outputs": []
  },
  {
   "cell_type": "markdown",
   "source": [
    "### 3.2 Readjust the percentage pruning\n",
    "\n",
    "One can look at the orignal plot in section 2.3 and select the optimal pruning percentage from there. This will work fine most of the time, but for some networks this percentage might be too high and prune away an entire layer, as explained in the paper.\n",
    "\n",
    "This issue can be detected by computing the kurtosis of kurtoses. A high kurtosis of kurtoses indicates the presence of layers with very small weights which are at risk of being pruned away completely. We provide a rough method to compute a more conservative pruning percentage based on this value. It is given by\n",
    "\n",
    "$$safe\\_prune = optimal\\_prune * \\frac{1}{\\ln{K^{(2)}}}$$\n",
    "where $ K^{(2)}$ is the kurtosis of kurtoses.\n",
    "\n",
    "In this example we achieve a low $K^{(2)}$, and the adjustement is therefore not strictly necessary. We can nevertheless use $safe\\_prune$ as a conservative estimate of the pruning percentage."
   ],
   "metadata": {
    "id": "m70h0NB8XE8W"
   }
  },
  {
   "cell_type": "code",
   "source": [
    "kurtosis_of_kurtoses_model = kurtosis_of_kurtoses(base)\n",
    "\n",
    "if kurtosis_of_kurtoses_model < torch.exp(torch.Tensor([1])):\n",
    "  prune_amount = 1/torch.log2(torch.Tensor([kurtosis_of_kurtoses_model]))\n",
    "else:\n",
    "  prune_amount = 1/torch.log(torch.Tensor([kurtosis_of_kurtoses_model]))\n",
    "print(f\"Kurtosis of kurtoses: {kurtosis_of_kurtoses_model:.2f}\")\n",
    "print(f\"Percentage Prune: {prune_amount.item()*100:.2f}\")"
   ],
   "metadata": {
    "colab": {
     "base_uri": "https://localhost:8080/"
    },
    "id": "5Hi0AfwbUyIz",
    "outputId": "7bd1ca30-9fb3-4003-996c-a9bdf90874c3",
    "ExecuteTime": {
     "end_time": "2024-03-06T15:24:06.419713Z",
     "start_time": "2024-03-06T15:24:06.405687Z"
    }
   },
   "execution_count": 17,
   "outputs": [
    {
     "name": "stdout",
     "output_type": "stream",
     "text": [
      "Kurtosis of kurtoses: 4.17\n",
      "Percentage Prune: 70.04\n"
     ]
    }
   ]
  },
  {
   "cell_type": "code",
   "source": [
    "prune_net = LeNet5()\n",
    "prune_net.load_state_dict(torch.load(\"base.pth\"))\n",
    "global_prune_with_masks(prune_net, float(prune_amount))\n",
    "prune_net.to(device)\n",
    "prune_acc, prune_loss = evaluate(testloader,prune_net)\n",
    "criterion = nn.CrossEntropyLoss()\n",
    "optimizer = optim.SGD(prune_net.parameters(), lr=0.001, momentum=0.9)\n",
    "train(trainloader,1,prune_net)\n",
    "finetune_acc, finetune_acc_loss =  evaluate(testloader,prune_net)"
   ],
   "metadata": {
    "colab": {
     "base_uri": "https://localhost:8080/"
    },
    "id": "y5VM3DVXWE4M",
    "outputId": "48091bc4-9d92-49ac-a6f7-a58f7b551bd5",
    "ExecuteTime": {
     "end_time": "2024-03-06T15:24:12.945628Z",
     "start_time": "2024-03-06T15:24:06.424237Z"
    }
   },
   "execution_count": 18,
   "outputs": [
    {
     "name": "stdout",
     "output_type": "stream",
     "text": [
      "[1] loss: 0.110\n",
      "Finished Training\n"
     ]
    }
   ]
  },
  {
   "cell_type": "code",
   "source": [
    "print(f\"Base Accuracy:  {acc:.2f}, Base Loss: {loss:.3f}\")\n",
    "print(f\"Prune Accuracy: {prune_acc:.2f}, Prune Loss: {prune_loss:.3f}\")\n",
    "print(f\"Finetune Accuracy: {finetune_acc:.2f}, Finetune Loss: {finetune_acc_loss:.3f}\")\n",
    "print(f\"Percentage Pruned {prune_amount.item()*100:.2f}\")"
   ],
   "metadata": {
    "colab": {
     "base_uri": "https://localhost:8080/"
    },
    "id": "ifZ8SX99Wu2L",
    "outputId": "09003b73-036f-4d71-b3e0-9be367d55ada",
    "ExecuteTime": {
     "end_time": "2024-03-06T15:24:12.952620Z",
     "start_time": "2024-03-06T15:24:12.947661Z"
    }
   },
   "execution_count": 19,
   "outputs": [
    {
     "name": "stdout",
     "output_type": "stream",
     "text": [
      "Base Accuracy:  97.56, Base Loss: 0.084\n",
      "Prune Accuracy: 90.63, Prune Loss: 0.260\n",
      "Finetune Accuracy: 97.40, Finetune Loss: 0.090\n",
      "Percentage Pruned 70.04\n"
     ]
    }
   ]
  },
  {
   "cell_type": "code",
   "outputs": [],
   "source": [],
   "metadata": {
    "collapsed": false,
    "ExecuteTime": {
     "end_time": "2024-03-06T15:24:12.956376Z",
     "start_time": "2024-03-06T15:24:12.953892Z"
    }
   },
   "execution_count": 19
  }
 ],
 "metadata": {
  "colab": {
   "provenance": [],
   "gpuType": "T4"
  },
  "kernelspec": {
   "name": "python3",
   "language": "python",
   "display_name": "Python 3 (ipykernel)"
  },
  "language_info": {
   "name": "python"
  },
  "accelerator": "GPU"
 },
 "nbformat": 4,
 "nbformat_minor": 0
}
